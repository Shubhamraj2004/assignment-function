{
 "cells": [
  {
   "cell_type": "markdown",
   "id": "c81c0763-98f0-4048-b591-09b8f1297787",
   "metadata": {},
   "source": [
    "THEORY"
   ]
  },
  {
   "cell_type": "markdown",
   "id": "b948db2b-d507-4dce-8e70-dd3632eb7c41",
   "metadata": {},
   "source": [
    "Questiom 1. What is object oriented programming(oop)\n",
    "Answer. An object oriented programming is a programming paradiagram that uses the concept of classes and object to structure software program in to reusable and modular pieces of code.\n",
    "Question 2. What is a class in oop.\n",
    "Answer 2. A class is a blueprint for creating objects. It defines a set of attributes and methods that the created objects will have.\n",
    "Question 3. What is an object in oop.\n",
    "Answer 3. An object is an instance of class. It contains specific data and can perform actions define by its class.\n",
    "Question 4.What is the difference between abstraction and encapsulation.\n",
    "Answer 4. Abstraction:- abstraction involves hiding the complex implementation details of a class and exposing only the necessary and relevant parts.\n",
    "Encapsulation:- Encapsulation is the concept of building the data and the methods that operate on tha data in to a single unit,or class. It restricts direct access to some of the objects component.\n",
    "Question 5. What are dunder methods in python.\n",
    "Answer 5. Dunder method is also called magic methods that starts and end with double underscore(__).\n",
    "Question 6. Explain the concept of  inheritance in oop.\n",
    "Answer 6. Inheritance in python is a fundamental concept of object oriented programming that allows a class to inherit attributes and methods from  another class. This promotes code reuse,and a hierarchical class structure.\n",
    "Question 7.What is polymorphism in OOP.\n",
    "Answer 7. polymorphism  is a foundational concept in programming that allows entities like functions,methods or operators to behave differently based on the type of data they are handling.literally means many forms.\n",
    "Question 8. How is encapsulation achieved in Python.\n",
    "Answer 8. Enacapsulation in python is achieved through the use of classes and access modifiers. it is a fundamental principle of oop that restricts direct accesss to some of an object's components,ensuring controlled interaction with the objects data.\n",
    "it is implimented using\n",
    "(1) using private attributes- By prefixing an attribute or method name with double scores(__).\n",
    "(2)Using Getter and Setter method- Encapsulation allows controlled access to private attribute using getter and setter methods.\n",
    "Question 9. What is a constructor in Python.\n",
    "Answer 9. A constructor in python is a special method that is automatically called when an instance of a class is created. the primary purpose of a constructor is to initialize the attributes of the object. the constructor method is defined using the __init__() method.\n",
    "Question 10. What are class and static methods in Python.\n",
    "Amswer 10. A class method is a method that is bound to the class and not the instance of the class. It operates on the class itself rather than on an instance. You define a class method using the @classmethod decorator.\n",
    "A static method is a method that belongs to the class but doesn't operate on the class or an instance of the class. It's essentially a regular function that is logically grouped within the class's namespace. You define a static method using the @staticmethod decorator.\n",
    "Question 11.what is method overloading in pyhthon.\n",
    "Answer 11. Method overloading in Python refers to the ability to define multiple methods in the same class with the same name but different parameters. However, Python does not support traditional method overloading like some other programming languages (e.g., Java or C++). Instead, Python achieves similar functionality through default arguments or by using techniques like variable-length arguments (*args and **kwargs) to handle different numbers or types of arguments.\n",
    "Question 12. what is method overriding in oop.\n",
    "Answer 12. Method overriding is a fundamental concept in inheritance where a subclass provides its own specific implementation of a method that is already defined in its superclass (parent class). When the overridden method is called on an object of the subclass, the subclass's implementation is executed instead of the superclass's implementation.\n",
    "Question 13.what is property decorator in pyhthon.\n",
    "Answer 13. The property decorator in Python is a built-in decorator that allows you to define methods in a class that can be accessed like attributes (without parentheses), but behind the scenes, they execute a getter, setter, or deleter method. It provides a \"Pythonic\" way to control access to instance attributes, often used for encapsulation and validation.\n",
    "\n",
    "You define a method with the same name as the desired \"property.\"\n",
    "The @property decorator turns a method into a getter.\n",
    "The @<property_name>.setter decorator defines the setter method for that property.\n",
    "The @<property_name>.deleter decorator defines the deleter method.\n",
    "Question 14.why is polymorphism imporatant in oop.\n",
    "Answer 14.Polymorphism (meaning \"many forms\") is one of the core principles of Object-Oriented Programming. It allows objects of different classes to be treated as objects of a common type. This means you can write code that works with a general interface, and the specific behavior will be determined by the actual type of the object at runtime.\n",
    "\n",
    "Importance of Polymorphism:\n",
    "Code Reusability: You can write generic functions or methods that operate on a base class type, and these functions will work correctly with any of its derived classes, without needing to write separate code for each subclass.\n",
    "Flexibility and Extensibility: It makes your code more adaptable to change. If you introduce a new subclass that adheres to the common interface, your existing polymorphic code will automatically work with it. This makes systems easier to extend and maintain.\n",
    "Decoupling: It reduces the coupling between different parts of your code. The client code doesn't need to know the specific type of object it's dealing with; it just needs to know that the object supports a certain set of methods (the common interface).\n",
    "Simpler Code: It simplifies code by reducing the need for explicit type checking (if-else or switch-case statements based on object types).\n",
    "Achieves Dynamic Dispatch: Python's dynamic nature inherently supports polymorphism. When you call a method on an object, Python looks up the method in the object's class and its inheritance hierarchy at runtime.\n",
    "Qustion 15.what is an abstract class in python.\n",
    "Answer 15.An abstract class is a class that cannot be instantiated directly. Its primary purpose is to serve as a blueprint or a contract for its subclasses. It defines a common interface (methods and properties) that its concrete (non-abstract) subclasses must implement.\n",
    "\n",
    "In Python, abstract classes are implemented using the abc (Abstract Base Classes) module. You use the ABC class as a metaclass and the @abstractmethod decorator for abstract methods.\n",
    "Queestion 16.what are advantages of oop.\n",
    "Answer 16. Object-Oriented Programming (OOP) is a programming paradigm based on the concept of \"objects,\" which can contain data (attributes) and code (methods). The main advantages of OOP are:\n",
    "\n",
    "Modularity: Objects are self-contained units. This makes it easier to design, develop, and maintain complex systems by breaking them down into smaller, manageable, and independent components.\n",
    "Encapsulation (Data Hiding): Objects bundle data and methods that operate on that data together. It allows hiding the internal state of an object from the outside world and exposing only what's necessary through well-defined interfaces. This protects data integrity and simplifies code modification.\n",
    "Abstraction: Focuses on essential properties and behaviors while hiding complex implementation details. Users interact with a simplified view of an object, without needing to know how it works internally. This leads to cleaner and easier-to-understand code.\n",
    "Inheritance: Allows a new class (subclass/derived class) to inherit properties and behaviors (attributes and methods) from an existing class (superclass/parent class). This promotes code reusability, reduces redundancy, and establishes a clear \"is-a\" relationship between classes.\n",
    "Polymorphism: Enables objects of different classes to be treated as objects of a common type, allowing for flexible and extensible code. It simplifies generic programming and makes systems more adaptable to new requirements.\n",
    "Question 17.what is the difference between a class variable and an instance variable.\n",
    "Answer 17.\n",
    "1. Instance Variables:\n",
    "Definition: Instance variables are defined within the methods of a class (typically in the __init__ constructor) and belong to a specific instance (object) of the class. They are prefixed with self..\n",
    "Storage: Each instance of the class gets its own copy of the instance variables. Changes to an instance variable in one object do not affect the instance variables of other objects.\n",
    "Purpose: To store data that is unique to each individual object.\n",
    "2. Class Variables (or Static Variables):\n",
    "Definition: Class variables are defined directly inside the class but outside of any method. They are not prefixed with self..\n",
    "Storage: There is only one copy of a class variable, which is shared by all instances of the class. If a class variable's value is changed, that change is reflected across all instances (unless an instance creates its own instance variable with the same name, which shadows the class variable for that instance).\n",
    "Purpose: To store data that is common to all instances of a class, or data that needs to be accessed at the class level without needing an instance.\n",
    "Question 18.what is multiple inheritance in pyhton.\n",
    "Answer 18. Multiple inheritance is a feature in object-oriented programming where a class can inherit properties and behaviors from more than one parent class. This means a single class can acquire attributes and methods from multiple distinct base classes, combining their functionalities.\n",
    "Python supports multiple inheritance. When a class inherits from multiple parents, the order in which the parent classes are listed in the class definition matters for resolving method and attribute lookups, especially when there are name conflicts. This order is determined by the Method Resolution Order (MRO).\n",
    "Question 19. Explain the purpose of ‘’__str__’ and ‘__repr__’ ‘ methods in Python.\n",
    "Answer 19.In Python, the str() and repr() functions are used to obtain string representations of objects. While they may seem similar at first glance, there are some differences in how they behave. Both of the functions can be helpful in debugging or printing useful information about the object.\n",
    "Purpose:\n",
    "The __str__ method is designed to return a \"nice,\" human-readable, or \"informal\" string representation of an object. This representation is primarily for end-users or for display purposes, such as printing an object to the console or logging.\n",
    "Target Audience: Humans.\n",
    "Output Goal: Readability. It should aim to provide a clear and concise summary of the object's state that an average user would understand.\n",
    "When it's called:\n",
    "By the print() function.\n",
    "By str() built-in function.\n",
    "By format() and f-strings (unless __repr__ is explicitly requested).\n",
    "In many logging frameworks.\n",
    "Question 20. what is the significance of the'super()' function in python.\n",
    "Answer 20. The super() function in Python is a powerful and versatile tool, especially in the context of object-oriented programming. It plays a significant role in enabling cleaner, more maintainable, and efficient code. \n",
    "key significance and use cases;\n",
    "Calling parent class method.\n",
    "Facilitating cooperative multiple inheritance(MRO)\n",
    "Dynamic method resolution.\n",
    "Question 21.what is the significance of the__del__ method in python.\n",
    "Answer 21.The __del__ method, also known as the destructor, is a special method in Python that is called when an object is about to be \"destroyed\" or finalized. This happens when the object's reference count drops to zero, meaning there are no more references pointing to it, and the Python garbage collector reclaims the memory associated with it.\n",
    "Question 22. what is the difference between static method and class method in python.\n",
    "Answer 23.Class Method\n",
    "Definition: Declared using the @classmethod decorator.\n",
    "First Parameter: Takes cls (the class itself) as the first parameter.\n",
    "Purpose: Used when you need to access or modify the class state or call other class methods.\n",
    "Usage: Can be called on the class itself or an instance of the class.\n",
    "example\n",
    "class Example:\n",
    "    class_variable = \"Hello\"\n",
    "\n",
    "    @classmethod\n",
    "    def class_method(cls):\n",
    "        return f\"Class variable is: {cls.class_variable}\"\n",
    "\n",
    "print(Example.class_method())  # Output: Class variable is: Hello\n",
    "Static method\n",
    "Definition: Declared using the @staticmethod decorator.\n",
    "First Parameter: Does not take self or cls as the first parameter.\n",
    "Purpose: Used when you don’t need to access or modify the class or instance state. It behaves like a regular function but belongs to the class's namespace.\n",
    "Usage: Can be called on the class itself or an instance of the class.\n",
    "Example:\n",
    "class Example:\n",
    "    @staticmethod\n",
    "    def static_method(x, y):\n",
    "        return x + y\n",
    "\n",
    "print(Example.static_method(5, 3))  # Output: 8\n",
    "Question 24.what is method chaining in python oop.\n",
    "Answer 24. Method chaining is a technique where multiple methods are called on the same object sequentially. This allows for more readable and concise code. In Python, method chaining can be implemented by ensuring that each method returns the object itself (self), allowing subsequent methods to be called on the same object.\n",
    "\n",
    "\n"
   ]
  },
  {
   "cell_type": "markdown",
   "id": "25dd7c15-b6d3-4a9e-a49b-48dd867ca010",
   "metadata": {},
   "source": [
    "PRACTICAL QUESTION"
   ]
  },
  {
   "cell_type": "code",
   "execution_count": 3,
   "id": "1d40a7d1-7e2b-46f3-9c3c-28124e52e10e",
   "metadata": {},
   "outputs": [],
   "source": [
    "#Questuion 1.create a parent class Animal with a method speak() that prints a generic message.Create a child class that overrides the speak() method to print\"Bark!\".\n",
    "#Answer 1.\n",
    "class Animal:\n",
    "    def speak(self):\n",
    "        print(\"This animal makes a sound.\")\n",
    "\n",
    "class Dog(Animal):\n",
    "    def speak(self):\n",
    "        print(\"Bark!\")\n"
   ]
  },
  {
   "cell_type": "code",
   "execution_count": 5,
   "id": "14faf8dd-abe7-4981-b7c4-cbcbadaad175",
   "metadata": {},
   "outputs": [
    {
     "name": "stdout",
     "output_type": "stream",
     "text": [
      "This animal makes a sound.\n"
     ]
    }
   ],
   "source": [
    "generic_animal = Animal()\n",
    "generic_animal.speak()"
   ]
  },
  {
   "cell_type": "code",
   "execution_count": 6,
   "id": "4df29b21-cfcb-44f1-afe8-28797f08fdb0",
   "metadata": {},
   "outputs": [
    {
     "name": "stdout",
     "output_type": "stream",
     "text": [
      "Bark!\n"
     ]
    }
   ],
   "source": [
    "my_dog = Dog()\n",
    "my_dog.speak()"
   ]
  },
  {
   "cell_type": "code",
   "execution_count": 11,
   "id": "cb80f9de-3947-40df-847c-405c7ee21563",
   "metadata": {},
   "outputs": [
    {
     "name": "stdout",
     "output_type": "stream",
     "text": [
      "Area of circle: 78.54\n",
      "Area of rectangle: 24.00\n"
     ]
    }
   ],
   "source": [
    "#Question 2.write a program to create an abstract class Shape with a method area(). Derive classes circle and rectangle from it and implement the area()method in both.\n",
    "#Answer 2.\n",
    "from abc import ABC, abstractmethod\n",
    "import math\n",
    "\n",
    "class Shape(ABC):\n",
    "    @abstractmethod\n",
    "    def area(self):\n",
    "        \"\"\"Calculates the area of the shape\"\"\"\n",
    "        pass\n",
    "\n",
    "class Circle(Shape):\n",
    "    def __init__(self, radius: float):\n",
    "        self.radius = radius\n",
    "    \n",
    "    def area(self) -> float:\n",
    "        \"\"\"Returns the area of the circle\"\"\"\n",
    "        return math.pi * self.radius**2\n",
    "\n",
    "class Rectangle(Shape):\n",
    "    def __init__(self, length: float, width: float):\n",
    "        self.length = length\n",
    "        self.width = width\n",
    "    \n",
    "    def area(self) -> float:\n",
    "        \"\"\"Returns the area of the rectangle\"\"\"\n",
    "        return self.length * self.width\n",
    "\n",
    "# Example usage\n",
    "circle = Circle(5)\n",
    "rectangle = Rectangle(4, 6)\n",
    "\n",
    "print(f\"Area of circle: {circle.area():.2f}\")\n",
    "print(f\"Area of rectangle: {rectangle.area():.2f}\")\n"
   ]
  },
  {
   "cell_type": "code",
   "execution_count": 12,
   "id": "48872c0d-7fca-4cda-a3ec-4155afbe9a59",
   "metadata": {},
   "outputs": [
    {
     "name": "stdout",
     "output_type": "stream",
     "text": [
      "Vehicle Type: Electric, Brand: Tesla, Battery Capacity: 75 kWh\n"
     ]
    }
   ],
   "source": [
    "#Quetion 3. Implement a multi-level inheritance scenario where a class Vehicle has an attribute type. Derive a class Car and further derive a class ElectricCar that adds a battery attribute\n",
    "#Answer 3.\n",
    "class Vehicle:\n",
    "    def __init__(self, vehicle_type):\n",
    "        self.vehicle_type = vehicle_type\n",
    "    \n",
    "    def display_info(self):\n",
    "        return f\"Vehicle Type: {self.vehicle_type}\"\n",
    "\n",
    "class Car(Vehicle):\n",
    "    def __init__(self, vehicle_type, brand):\n",
    "        super().__init__(vehicle_type)\n",
    "        self.brand = brand\n",
    "    \n",
    "    def display_info(self):\n",
    "        return f\"{super().display_info()}, Brand: {self.brand}\"\n",
    "\n",
    "class ElectricCar(Car):\n",
    "    def __init__(self, vehicle_type, brand, battery_capacity):\n",
    "        super().__init__(vehicle_type, brand)\n",
    "        self.battery_capacity = battery_capacity\n",
    "    \n",
    "    def display_info(self):\n",
    "        return f\"{super().display_info()}, Battery Capacity: {self.battery_capacity} kWh\"\n",
    "\n",
    "# Example usage\n",
    "electric_car = ElectricCar(\"Electric\", \"Tesla\", 75)\n",
    "\n",
    "print(electric_car.display_info())"
   ]
  },
  {
   "cell_type": "code",
   "execution_count": 13,
   "id": "1870a76d-eaae-475e-8134-ab89e0b8da01",
   "metadata": {},
   "outputs": [
    {
     "name": "stdout",
     "output_type": "stream",
     "text": [
      "Sparrow flies swiftly in the sky.\n",
      "Penguins cannot fly, but they swim gracefully.\n"
     ]
    }
   ],
   "source": [
    "#Question 4.Demonstrate polymorphism by creating a base class Bird with a method fly(). Create two derived classes Sparrow and Penguin that override the fly() method.\n",
    "#Answer 4.\n",
    "class Bird:\n",
    "    def fly(self):\n",
    "        return \"Some birds can fly.\"\n",
    "\n",
    "class Sparrow(Bird):\n",
    "    def fly(self):\n",
    "        return \"Sparrow flies swiftly in the sky.\"\n",
    "\n",
    "class Penguin(Bird):\n",
    "    def fly(self):\n",
    "        return \"Penguins cannot fly, but they swim gracefully.\"\n",
    "\n",
    "# Example usage\n",
    "birds = [Sparrow(), Penguin()]\n",
    "\n",
    "for bird in birds:\n",
    "    print(bird.fly())"
   ]
  },
  {
   "cell_type": "code",
   "execution_count": 14,
   "id": "67c00c9e-48a8-4689-9a76-256a31273e08",
   "metadata": {},
   "outputs": [
    {
     "name": "stdout",
     "output_type": "stream",
     "text": [
      "Deposited 500. New balance: 1500\n",
      "Withdrew 300. New balance: 1200\n",
      "Current balance: 1200\n"
     ]
    }
   ],
   "source": [
    "#Question 5. Write a program to demonstrate encapsulation by creating a class BankAccount with private attributes balance and methods to deposit, withdraw, and check balance.\n",
    "#Answer 5.\n",
    "class BankAccount:\n",
    "    def __init__(self, initial_balance):\n",
    "        self.__balance = initial_balance  # Private attribute\n",
    "    \n",
    "    def deposit(self, amount):\n",
    "        if amount > 0:\n",
    "            self.__balance += amount\n",
    "            return f\"Deposited {amount}. New balance: {self.__balance}\"\n",
    "        else:\n",
    "            return \"Deposit amount must be positive.\"\n",
    "    \n",
    "    def withdraw(self, amount):\n",
    "        if 0 < amount <= self.__balance:\n",
    "            self.__balance -= amount\n",
    "            return f\"Withdrew {amount}. New balance: {self.__balance}\"\n",
    "        else:\n",
    "            return \"Invalid withdrawal amount or insufficient balance.\"\n",
    "    \n",
    "    def check_balance(self):\n",
    "        return f\"Current balance: {self.__balance}\"\n",
    "\n",
    "# Example usage\n",
    "account = BankAccount(1000)\n",
    "print(account.deposit(500))\n",
    "print(account.withdraw(300))\n",
    "print(account.check_balance())"
   ]
  },
  {
   "cell_type": "code",
   "execution_count": 15,
   "id": "343c9ef5-ad2a-43fd-8feb-0dcc0efd3676",
   "metadata": {},
   "outputs": [
    {
     "name": "stdout",
     "output_type": "stream",
     "text": [
      "Strumming the guitar with beautiful chords.\n",
      "Playing melodious notes on the piano.\n"
     ]
    }
   ],
   "source": [
    "#Question 6.Demonstrate runtime polymorphism using a method play() in a base class Instrument. Derive classes Guitar and Piano that implement their own version of play().\n",
    "#Answer 6.\n",
    "class Instrument:\n",
    "    def play(self):\n",
    "        return \"Playing some instrument.\"\n",
    "\n",
    "class Guitar(Instrument):\n",
    "    def play(self):\n",
    "        return \"Strumming the guitar with beautiful chords.\"\n",
    "\n",
    "class Piano(Instrument):\n",
    "    def play(self):\n",
    "        return \"Playing melodious notes on the piano.\"\n",
    "\n",
    "# Example usage\n",
    "instruments = [Guitar(), Piano()]\n",
    "\n",
    "for instrument in instruments:\n",
    "    print(instrument.play())"
   ]
  },
  {
   "cell_type": "code",
   "execution_count": 20,
   "id": "73cd9c70-d46d-4b42-88f4-ff520e203c7a",
   "metadata": {},
   "outputs": [
    {
     "name": "stdout",
     "output_type": "stream",
     "text": [
      "15\n",
      "5\n"
     ]
    }
   ],
   "source": [
    "#Question 7. Create a class MathOperations with a class method add_numbers() to add two numbers and a static method subtract_numbers() to subtract two numbers.\n",
    "#Answer 7.\n",
    "class MathOperations:\n",
    "    @classmethod\n",
    "    def add_numbers(cls, a, b):\n",
    "        \"\"\"Class method: Adds two numbers\"\"\"\n",
    "        return a + b\n",
    "\n",
    "    @staticmethod\n",
    "    def subtract_numbers(a, b):\n",
    "        \"\"\"Static method: Subtracts two numbers\"\"\"\n",
    "        return a - b\n",
    "\n",
    "# Example usage\n",
    "print(MathOperations.add_numbers(10, 5))    \n",
    "print(MathOperations.subtract_numbers(10, 5))  "
   ]
  },
  {
   "cell_type": "code",
   "execution_count": 21,
   "id": "e2d98314-c699-4d5f-88ae-0125e7d3418f",
   "metadata": {},
   "outputs": [
    {
     "name": "stdout",
     "output_type": "stream",
     "text": [
      "Total Persons Created: 3\n"
     ]
    }
   ],
   "source": [
    "#Question 8. Implement a class Person with a class method to count the total number of persons created.\n",
    "#Answer 8.\n",
    "class Person:\n",
    "    count = 0  # Class attribute to track the number of persons\n",
    "\n",
    "    def __init__(self, name):\n",
    "        self.name = name\n",
    "        Person.count += 1  # Increment count when a new instance is created\n",
    "\n",
    "    @classmethod\n",
    "    def total_persons(cls):\n",
    "        \"\"\"Returns the total number of persons created.\"\"\"\n",
    "        return f\"Total Persons Created: {cls.count}\"\n",
    "\n",
    "# Example usage\n",
    "p1 = Person(\"Alice\")\n",
    "p2 = Person(\"Bob\")\n",
    "p3 = Person(\"Charlie\")\n",
    "\n",
    "print(Person.total_persons())  "
   ]
  },
  {
   "cell_type": "code",
   "execution_count": 22,
   "id": "b192e876-f474-4c5a-a6f7-f65d33ee3b6e",
   "metadata": {},
   "outputs": [
    {
     "name": "stdout",
     "output_type": "stream",
     "text": [
      "3/4\n",
      "5/8\n"
     ]
    }
   ],
   "source": [
    "#Question 9.Write a class Fraction with attributes numerator and denominator. Override the str method to display the fraction as \"numerator/denominator\"\n",
    "#Answer 9.\n",
    "class Fraction:\n",
    "    def __init__(self, numerator, denominator):\n",
    "        if denominator == 0:\n",
    "            raise ValueError(\"Denominator cannot be zero.\")\n",
    "        self.numerator = numerator\n",
    "        self.denominator = denominator\n",
    "    \n",
    "    def __str__(self):\n",
    "        \"\"\"Override __str__ to display fraction in 'numerator/denominator' format.\"\"\"\n",
    "        return f\"{self.numerator}/{self.denominator}\"\n",
    "\n",
    "# Example usage\n",
    "fraction1 = Fraction(3, 4)\n",
    "fraction2 = Fraction(5, 8)\n",
    "\n",
    "print(fraction1)  \n",
    "print(fraction2)  "
   ]
  },
  {
   "cell_type": "code",
   "execution_count": 2,
   "id": "8653e11b-09c4-4a63-b1de-68521ff7a1b1",
   "metadata": {},
   "outputs": [
    {
     "name": "stdout",
     "output_type": "stream",
     "text": [
      "Vector(6, 8)\n"
     ]
    }
   ],
   "source": [
    "#Question 10.Demonstrate operator overloading by creating a class vector and overriding the add method to add two vectors.\n",
    "#Answer 10.\n",
    "class Vector:\n",
    "    def __init__(self, x, y):\n",
    "        self.x = x\n",
    "        self.y = y\n",
    "\n",
    "    def __add__(self, other):\n",
    "        if isinstance(other, Vector):\n",
    "            return Vector(self.x + other.x, self.y + other.y)\n",
    "        raise TypeError(\"Operand must be of type Vector\")\n",
    "\n",
    "    def __repr__(self):\n",
    "        return f\"Vector({self.x}, {self.y})\"\n",
    "\n",
    "# Example usage\n",
    "v1 = Vector(2, 3)\n",
    "v2 = Vector(4, 5)\n",
    "\n",
    "v3 = v1 + v2  # Overloaded + operator\n",
    "print(v3)  "
   ]
  },
  {
   "cell_type": "code",
   "execution_count": 3,
   "id": "f280e962-15a5-4010-b257-e2b42a491029",
   "metadata": {},
   "outputs": [
    {
     "name": "stdout",
     "output_type": "stream",
     "text": [
      "Hello, my name is Shubhamraj and I am 22 years old.\n"
     ]
    }
   ],
   "source": [
    "#Question 11. Create a class Person with attributes name and age. Add a method greet() that prints \"Hello, my name is {name} and I am {age} years old.\n",
    "#Answer 11.\n",
    "class Person:\n",
    "    def __init__(self, name, age):\n",
    "        self.name = name\n",
    "        self.age = age\n",
    "\n",
    "    def greet(self):\n",
    "        print(f\"Hello, my name is {self.name} and I am {self.age} years old.\")\n",
    "\n",
    "# Example usage\n",
    "p1 = Person(\"Shubhamraj\", 22)\n",
    "p1.greet()  "
   ]
  },
  {
   "cell_type": "code",
   "execution_count": 4,
   "id": "769d866a-bc04-427a-8f48-85f15aba2173",
   "metadata": {},
   "outputs": [
    {
     "name": "stdout",
     "output_type": "stream",
     "text": [
      "Shubhamraj's average grade: 86.25\n"
     ]
    }
   ],
   "source": [
    "#Question 12. Implement a class Student with attributes name and grades. Create a method average_grade() to compute the average of the grades\n",
    "#Answer 12. \n",
    "class Student:\n",
    "    def __init__(self, name, grades):\n",
    "        self.name = name\n",
    "        self.grades = grades  # Expecting a list of grades\n",
    "\n",
    "    def average_grade(self):\n",
    "        if self.grades:\n",
    "            return sum(self.grades) / len(self.grades)\n",
    "        return 0  # Return 0 if there are no grades\n",
    "\n",
    "    def __repr__(self):\n",
    "        return f\"Student({self.name}, Grades: {self.grades})\"\n",
    "\n",
    "# Example usage\n",
    "s1 = Student(\"Shubhamraj\", [85, 90, 78, 92])\n",
    "print(f\"{s1.name}'s average grade: {s1.average_grade():.2f}\")  # Output: Shubhamraj's average grade: 86.25"
   ]
  },
  {
   "cell_type": "code",
   "execution_count": 5,
   "id": "1afe26c9-bcf3-438e-bf68-0841c4886bfe",
   "metadata": {},
   "outputs": [
    {
     "name": "stdout",
     "output_type": "stream",
     "text": [
      "Area of Rectangle(5 x 10): 50\n"
     ]
    }
   ],
   "source": [
    "#Question 13.Create a class Rectangle with methods set_dimensions() to set the dimensions and area() to calculate the area.\n",
    "#Answer 13.\n",
    "class Rectangle:\n",
    "    def __init__(self, width=0, height=0):\n",
    "        self.width = width\n",
    "        self.height = height\n",
    "\n",
    "    def set_dimensions(self, width, height):\n",
    "        self.width = width\n",
    "        self.height = height\n",
    "\n",
    "    def area(self):\n",
    "        return self.width * self.height\n",
    "\n",
    "    def __repr__(self):\n",
    "        return f\"Rectangle({self.width} x {self.height})\"\n",
    "\n",
    "# Example usage\n",
    "rect = Rectangle()\n",
    "rect.set_dimensions(5, 10)\n",
    "print(f\"Area of {rect}: {rect.area()}\")  # Output: Area of Rectangle(5 x 10): 50"
   ]
  },
  {
   "cell_type": "code",
   "execution_count": 6,
   "id": "45440495-beb7-4153-89e8-8cfa0b5d934a",
   "metadata": {},
   "outputs": [
    {
     "name": "stdout",
     "output_type": "stream",
     "text": [
      "Employee(Alice, Salary: 800.00)\n",
      "Manager(Bob, Salary: 1700.00, Bonus: 500)\n"
     ]
    }
   ],
   "source": [
    "#Question 14.Create a class Employee with a method calculate_salary() that computes the salary based on hours worked and hourly rate. Create a derived class Manager that adds a bonus to the salary.\n",
    "#Answer 14\n",
    "class Employee:\n",
    "    def __init__(self, name, hours_worked, hourly_rate):\n",
    "        self.name = name\n",
    "        self.hours_worked = hours_worked\n",
    "        self.hourly_rate = hourly_rate\n",
    "\n",
    "    def calculate_salary(self):\n",
    "        return self.hours_worked * self.hourly_rate\n",
    "\n",
    "    def __repr__(self):\n",
    "        return f\"Employee({self.name}, Salary: {self.calculate_salary():.2f})\"\n",
    "\n",
    "class Manager(Employee):\n",
    "    def __init__(self, name, hours_worked, hourly_rate, bonus):\n",
    "        super().__init__(name, hours_worked, hourly_rate)\n",
    "        self.bonus = bonus\n",
    "\n",
    "    def calculate_salary(self):\n",
    "        return super().calculate_salary() + self.bonus\n",
    "\n",
    "    def __repr__(self):\n",
    "        return f\"Manager({self.name}, Salary: {self.calculate_salary():.2f}, Bonus: {self.bonus})\"\n",
    "\n",
    "# Example usage\n",
    "emp = Employee(\"Alice\", 40, 20)\n",
    "mgr = Manager(\"Bob\", 40, 30, 500)\n",
    "\n",
    "print(emp)  # Output: Employee(Alice, Salary: 800.00)\n",
    "print(mgr)  # Output: Manager(Bob, Salary: 1700.00, Bonus: 500)\n"
   ]
  },
  {
   "cell_type": "code",
   "execution_count": 7,
   "id": "e6a0f917-bc3d-43c4-80a7-7a69237e41b1",
   "metadata": {},
   "outputs": [
    {
     "name": "stdout",
     "output_type": "stream",
     "text": [
      "Total price of Laptop: 150000\n"
     ]
    }
   ],
   "source": [
    "#Question 15.Create a class Product with attributes name, price, and quantity. Implement a method total_price() that calculates the total price of the product\n",
    "#Answer 15.\n",
    "class Product:\n",
    "    def __init__(self, name, price, quantity):\n",
    "        self.name = name\n",
    "        self.price = price\n",
    "        self.quantity = quantity\n",
    "\n",
    "    def total_price(self):\n",
    "        return self.price * self.quantity\n",
    "\n",
    "    def __repr__(self):\n",
    "        return f\"Product({self.name}, Price: {self.price}, Quantity: {self.quantity})\"\n",
    "\n",
    "# Example usage\n",
    "p1 = Product(\"Laptop\", 75000, 2)\n",
    "print(f\"Total price of {p1.name}: {p1.total_price()}\")  # Output: Total price of Laptop: 150000"
   ]
  },
  {
   "cell_type": "code",
   "execution_count": 8,
   "id": "e46d1fbd-e59d-4927-b0b5-16a7bf05d53e",
   "metadata": {},
   "outputs": [
    {
     "name": "stdout",
     "output_type": "stream",
     "text": [
      "Cow makes: Moo\n",
      "Sheep makes: Baa\n"
     ]
    }
   ],
   "source": [
    "#Question 16.. Create a class Animal with an abstract method sound(). Create two derived classes Cow and Sheep that implement the sound() method.\n",
    "#Answer 16.\n",
    "from abc import ABC, abstractmethod\n",
    "\n",
    "class Animal(ABC):  \n",
    "    @abstractmethod\n",
    "    def sound(self):\n",
    "        pass\n",
    "\n",
    "class Cow(Animal):  \n",
    "    def sound(self):\n",
    "        return \"Moo\"\n",
    "\n",
    "class Sheep(Animal):  \n",
    "    def sound(self):\n",
    "        return \"Baa\"\n",
    "\n",
    "# Example usage\n",
    "cow = Cow()\n",
    "sheep = Sheep()\n",
    "\n",
    "print(f\"Cow makes: {cow.sound()}\")  # Output: Cow makes: Moo\n",
    "print(f\"Sheep makes: {sheep.sound()}\")  # Output: Sheep makes: Baa"
   ]
  },
  {
   "cell_type": "code",
   "execution_count": 9,
   "id": "40eb891e-e56e-4a1f-ac17-070404d89def",
   "metadata": {},
   "outputs": [
    {
     "name": "stdout",
     "output_type": "stream",
     "text": [
      "'The Great Gatsby' by F. Scott Fitzgerald, published in 1925\n"
     ]
    }
   ],
   "source": [
    "#Question 17. Create a class Book with attributes title, author, and year_published. Add a method get_book_info() that returns a formatted string with the book's details.\n",
    "#Answer 17.\n",
    "class Book:\n",
    "    def __init__(self, title, author, year_published):\n",
    "        self.title = title\n",
    "        self.author = author\n",
    "        self.year_published = year_published\n",
    "\n",
    "    def get_book_info(self):\n",
    "        return f\"'{self.title}' by {self.author}, published in {self.year_published}\"\n",
    "\n",
    "    def __repr__(self):\n",
    "        return f\"Book({self.title}, {self.author}, {self.year_published})\"\n",
    "\n",
    "# Example usage\n",
    "book1 = Book(\"The Great Gatsby\", \"F. Scott Fitzgerald\", 1925)\n",
    "print(book1.get_book_info())  # Output: 'The Great Gatsby' by F. Scott Fitzgerald, published in 1925"
   ]
  },
  {
   "cell_type": "code",
   "execution_count": 10,
   "id": "7c448a66-7b63-4b3e-909c-3be10cf53a4b",
   "metadata": {},
   "outputs": [
    {
     "name": "stdout",
     "output_type": "stream",
     "text": [
      "House located at 123 Elm Street, priced at $250,000\n",
      "Mansion located at 456 Oak Avenue, priced at $2,000,000, with 10 rooms\n"
     ]
    }
   ],
   "source": [
    "#Question 18. Create a class House with attributes address and price. Create a derived class Mansion that adds an attribute number_of_rooms\n",
    "#Answer 18.\n",
    "class House:\n",
    "    def __init__(self, address, price):\n",
    "        self.address = address\n",
    "        self.price = price\n",
    "\n",
    "    def get_info(self):\n",
    "        return f\"House located at {self.address}, priced at ${self.price:,}\"\n",
    "\n",
    "    def __repr__(self):\n",
    "        return f\"House({self.address}, ${self.price:,})\"\n",
    "\n",
    "class Mansion(House):\n",
    "    def __init__(self, address, price, number_of_rooms):\n",
    "        super().__init__(address, price)\n",
    "        self.number_of_rooms = number_of_rooms\n",
    "\n",
    "    def get_info(self):\n",
    "        return f\"Mansion located at {self.address}, priced at ${self.price:,}, with {self.number_of_rooms} rooms\"\n",
    "\n",
    "    def __repr__(self):\n",
    "        return f\"Mansion({self.address}, ${self.price:,}, Rooms: {self.number_of_rooms})\"\n",
    "\n",
    "# Example usage\n",
    "house = House(\"123 Elm Street\", 250000)\n",
    "mansion = Mansion(\"456 Oak Avenue\", 2000000, 10)\n",
    "\n",
    "print(house.get_info())  # Output: House located at 123 Elm Street, priced at $250,000\n",
    "print(mansion.get_info())  # Output: Mansion located at 456 Oak Avenue, priced at $2,000,000, with 10 rooms"
   ]
  }
 ],
 "metadata": {
  "kernelspec": {
   "display_name": "Python 3 (ipykernel)",
   "language": "python",
   "name": "python3"
  },
  "language_info": {
   "codemirror_mode": {
    "name": "ipython",
    "version": 3
   },
   "file_extension": ".py",
   "mimetype": "text/x-python",
   "name": "python",
   "nbconvert_exporter": "python",
   "pygments_lexer": "ipython3",
   "version": "3.12.7"
  }
 },
 "nbformat": 4,
 "nbformat_minor": 5
}
