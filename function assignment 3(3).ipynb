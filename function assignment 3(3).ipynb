{
 "cells": [
  {
   "cell_type": "markdown",
   "id": "63627b95-2cb6-4281-b911-a4eb0d38b3ce",
   "metadata": {},
   "source": [
    "# PRACTICAL QUESTIONS"
   ]
  },
  {
   "cell_type": "code",
   "execution_count": null,
   "id": "b453c083-8145-4344-8c3c-47419c86616f",
   "metadata": {},
   "outputs": [],
   "source": [
    "Question 1. Write a Python function that takes a list of numbers as input and returns the sum of all even numbers in \n",
    "the list.\n",
    " "
   ]
  },
  {
   "cell_type": "code",
   "execution_count": 1,
   "id": "6ae026b0-8a35-4cfb-9494-bb1905b9f142",
   "metadata": {},
   "outputs": [
    {
     "name": "stdout",
     "output_type": "stream",
     "text": [
      "The sum of even numbers in [1, 2, 3, 4, 5, 6, 7, 8, 9, 10] is: 30\n",
      "The sum of even numbers in [15, 22, 37, 40, 51] is: 62\n",
      "The sum of even numbers in [] is: 0\n"
     ]
    }
   ],
   "source": [
    "#Answer 1.\n",
    "def sum_of_even_numbers(numbers_list):\n",
    "    \"\"\"\n",
    "    Calculates the sum of all even numbers in a given list.\n",
    "\n",
    "    Args:\n",
    "        numbers_list (list): A list of numbers.\n",
    "\n",
    "    Returns:\n",
    "        int: The sum of the even numbers.\n",
    "    \"\"\"\n",
    "    total_even_sum = 0\n",
    "    for number in numbers_list:\n",
    "        if number % 2 == 0:\n",
    "            total_even_sum += number\n",
    "    return total_even_sum\n",
    "\n",
    "# Example Usage:\n",
    "my_list = [1, 2, 3, 4, 5, 6, 7, 8, 9, 10]\n",
    "even_sum = sum_of_even_numbers(my_list)\n",
    "print(f\"The sum of even numbers in {my_list} is: {even_sum}\")\n",
    "\n",
    "my_list_2 = [15, 22, 37, 40, 51]\n",
    "even_sum_2 = sum_of_even_numbers(my_list_2)\n",
    "print(f\"The sum of even numbers in {my_list_2} is: {even_sum_2}\")\n",
    "\n",
    "empty_list = []\n",
    "even_sum_empty = sum_of_even_numbers(empty_list)\n",
    "print(f\"The sum of even numbers in {empty_list} is: {even_sum_empty}\")"
   ]
  },
  {
   "cell_type": "code",
   "execution_count": null,
   "id": "333c7e44-77c3-44f7-a83d-bb5edf734dee",
   "metadata": {},
   "outputs": [],
   "source": [
    "Question 2. Create a Python function that accepts a string and returns the reverse of that string.\n",
    " "
   ]
  },
  {
   "cell_type": "code",
   "execution_count": 2,
   "id": "3e0ca497-022c-490d-a0e4-d71f65a3874a",
   "metadata": {},
   "outputs": [
    {
     "name": "stdout",
     "output_type": "stream",
     "text": [
      "'hello' reversed is: 'olleh'\n",
      "'Python' reversed is: 'nohtyP'\n",
      "'a' reversed is: 'a'\n",
      "'' reversed is: ''\n"
     ]
    }
   ],
   "source": [
    "#Answer 2.\n",
    "def reverse_string(input_string):\n",
    "    \"\"\"\n",
    "    Reverses a given string.\n",
    "\n",
    "    Args:\n",
    "        input_string (str): The string to be reversed.\n",
    "\n",
    "    Returns:\n",
    "        str: The reversed string.\n",
    "    \"\"\"\n",
    "    return input_string[::-1]\n",
    "\n",
    "# Example Usage:\n",
    "text1 = \"hello\"\n",
    "reversed_text1 = reverse_string(text1)\n",
    "print(f\"'{text1}' reversed is: '{reversed_text1}'\")\n",
    "\n",
    "text2 = \"Python\"\n",
    "reversed_text2 = reverse_string(text2)\n",
    "print(f\"'{text2}' reversed is: '{reversed_text2}'\")\n",
    "\n",
    "text3 = \"a\"\n",
    "reversed_text3 = reverse_string(text3)\n",
    "print(f\"'{text3}' reversed is: '{reversed_text3}'\")\n",
    "\n",
    "text4 = \"\"\n",
    "reversed_text4 = reverse_string(text4)\n",
    "print(f\"'{text4}' reversed is: '{reversed_text4}'\")"
   ]
  },
  {
   "cell_type": "code",
   "execution_count": null,
   "id": "3e092621-6662-4a83-be26-610609619033",
   "metadata": {},
   "outputs": [],
   "source": [
    "Question 3. Implement a Python function that takes a list of integers and returns a new list containing the squares of \n",
    "each number.\n",
    " "
   ]
  },
  {
   "cell_type": "code",
   "execution_count": 3,
   "id": "d36a83c7-e99d-436a-bc2c-78658cda93f9",
   "metadata": {},
   "outputs": [
    {
     "name": "stdout",
     "output_type": "stream",
     "text": [
      "The squares of [1, 2, 3, 4, 5] are: [1, 4, 9, 16, 25]\n",
      "The squares of [] are: []\n",
      "The squares of [-1, -2, 0, 3] are: [1, 4, 0, 9]\n"
     ]
    }
   ],
   "source": [
    "#Answer 3.\n",
    "def squares_of_numbers(numbers_list):\n",
    "    \"\"\"\n",
    "    Takes a list of integers and returns a new list containing the squares of each number.\n",
    "\n",
    "    Args:\n",
    "        numbers_list (list): A list of integers.\n",
    "\n",
    "    Returns:\n",
    "        list: A new list with the squares of the input numbers.\n",
    "    \"\"\"\n",
    "    squared_list = []\n",
    "    for number in numbers_list:\n",
    "        squared_list.append(number * number)\n",
    "    return squared_list\n",
    "\n",
    "# Example Usage:\n",
    "my_numbers = [1, 2, 3, 4, 5]\n",
    "squared_nums = squares_of_numbers(my_numbers)\n",
    "print(f\"The squares of {my_numbers} are: {squared_nums}\")\n",
    "\n",
    "empty_nums = []\n",
    "squared_empty = squares_of_numbers(empty_nums)\n",
    "print(f\"The squares of {empty_nums} are: {squared_empty}\")\n",
    "\n",
    "negative_nums = [-1, -2, 0, 3]\n",
    "squared_negative = squares_of_numbers(negative_nums)\n",
    "print(f\"The squares of {negative_nums} are: {squared_negative}\")"
   ]
  },
  {
   "cell_type": "code",
   "execution_count": null,
   "id": "43180ede-2dfd-4f12-b7b0-1ae5177339fc",
   "metadata": {},
   "outputs": [],
   "source": [
    "Question 4. Write a Python function that checks if a given number is prime or not from 1 to 200.\n",
    " "
   ]
  },
  {
   "cell_type": "code",
   "execution_count": 4,
   "id": "1365f23a-6fc8-4a49-a748-e2e762ce7d98",
   "metadata": {},
   "outputs": [
    {
     "name": "stdout",
     "output_type": "stream",
     "text": [
      "Prime check for numbers from 1 to 200:\n",
      "1 is not prime\n",
      "2 is prime\n",
      "3 is prime\n",
      "4 is not prime\n",
      "5 is prime\n",
      "6 is not prime\n",
      "7 is prime\n",
      "8 is not prime\n",
      "9 is not prime\n",
      "10 is not prime\n",
      "11 is prime\n",
      "12 is not prime\n",
      "13 is prime\n",
      "14 is not prime\n",
      "15 is not prime\n",
      "16 is not prime\n",
      "17 is prime\n",
      "18 is not prime\n",
      "19 is prime\n",
      "20 is not prime\n",
      "\n",
      "Specific checks:\n",
      "Is 7 prime? True\n",
      "Is 10 prime? False\n",
      "Is 199 prime? True\n",
      "Is 143 prime? False\n",
      "Is 1 prime? False\n",
      "Is 2 prime? True\n"
     ]
    }
   ],
   "source": [
    "#Answer 4.\n",
    "def is_prime(number):\n",
    "    \"\"\"\n",
    "    Checks if a given number is prime.\n",
    "    Assumes input number is between 1 and 200 (inclusive).\n",
    "\n",
    "    Args:\n",
    "        number (int): The number to check.\n",
    "\n",
    "    Returns:\n",
    "        bool: True if the number is prime, False otherwise.\n",
    "    \"\"\"\n",
    "    if not (1 <= number <= 200):\n",
    "        print(\"Warning: Input number is outside the range 1 to 200.\")\n",
    "        # For numbers outside the specified range, we still return a valid prime check.\n",
    "        # However, the problem specifies 1 to 200.\n",
    "        pass\n",
    "\n",
    "    if number <= 1:\n",
    "        return False  # 0, 1, and negative numbers are not prime\n",
    "    if number <= 3:\n",
    "        return True   # 2 and 3 are prime\n",
    "    if number % 2 == 0 or number % 3 == 0:\n",
    "        return False  # Multiples of 2 or 3 are not prime (except 2 and 3 themselves)\n",
    "\n",
    "    # Check for factors from 5 onwards\n",
    "    # We only need to check up to the square root of the number\n",
    "    i = 5\n",
    "    while i * i <= number:\n",
    "        if number % i == 0 or number % (i + 2) == 0:\n",
    "            return False\n",
    "        i += 6\n",
    "    return True\n",
    "\n",
    "# Example Usage:\n",
    "print(\"Prime check for numbers from 1 to 200:\")\n",
    "for num in range(1, 21): # Checking a smaller range for demonstration\n",
    "    if is_prime(num):\n",
    "        print(f\"{num} is prime\")\n",
    "    else:\n",
    "        print(f\"{num} is not prime\")\n",
    "\n",
    "print(\"\\nSpecific checks:\")\n",
    "print(f\"Is 7 prime? {is_prime(7)}\")\n",
    "print(f\"Is 10 prime? {is_prime(10)}\")\n",
    "print(f\"Is 199 prime? {is_prime(199)}\") # A large prime\n",
    "print(f\"Is 143 prime? {is_prime(143)}\") # 11 * 13\n",
    "print(f\"Is 1 prime? {is_prime(1)}\")\n",
    "print(f\"Is 2 prime? {is_prime(2)}\")"
   ]
  },
  {
   "cell_type": "code",
   "execution_count": null,
   "id": "502c1fa0-e3ea-40c4-ad51-bff60b4fc0df",
   "metadata": {},
   "outputs": [],
   "source": [
    "Question 5. Create an iterator class in Python that generates the Fibonacci sequence up to a specified number of \n",
    "terms.\n"
   ]
  },
  {
   "cell_type": "code",
   "execution_count": 5,
   "id": "2fb221a1-8274-4c47-8372-631e8216efef",
   "metadata": {},
   "outputs": [
    {
     "name": "stdout",
     "output_type": "stream",
     "text": [
      "\n",
      "Fibonacci Sequence (5 terms):\n",
      "0\n",
      "1\n",
      "1\n",
      "2\n",
      "3\n",
      "\n",
      "Fibonacci Sequence (1 term):\n",
      "0\n",
      "\n",
      "Fibonacci Sequence (0 terms):\n",
      "\n",
      "Fibonacci Sequence (manual next):\n",
      "0\n",
      "1\n",
      "1\n"
     ]
    }
   ],
   "source": [
    "#Answer 5.\n",
    "class FibonacciIterator:\n",
    "    \"\"\"\n",
    "    An iterator class that generates the Fibonacci sequence up to a specified number of terms.\n",
    "    \"\"\"\n",
    "    def __init__(self, num_terms):\n",
    "        if not isinstance(num_terms, int) or num_terms < 0:\n",
    "            raise ValueError(\"Number of terms must be a non-negative integer.\")\n",
    "        self.num_terms = num_terms\n",
    "        self.count = 0\n",
    "        self.a = 0\n",
    "        self.b = 1\n",
    "\n",
    "    def __iter__(self):\n",
    "        return self\n",
    "\n",
    "    def __next__(self):\n",
    "        if self.count < self.num_terms:\n",
    "            if self.count == 0:\n",
    "                self.count += 1\n",
    "                return self.a # First term is 0\n",
    "            elif self.count == 1:\n",
    "                self.count += 1\n",
    "                return self.b # Second term is 1\n",
    "            else:\n",
    "                # Calculate the next Fibonacci number\n",
    "                next_fib = self.a + self.b\n",
    "                self.a = self.b\n",
    "                self.b = next_fib\n",
    "                self.count += 1\n",
    "                return next_fib\n",
    "        else:\n",
    "            raise StopIteration\n",
    "\n",
    "# Example Usage:\n",
    "print(\"\\nFibonacci Sequence (5 terms):\")\n",
    "fib_iter = FibonacciIterator(5)\n",
    "for num in fib_iter:\n",
    "    print(num)\n",
    "\n",
    "print(\"\\nFibonacci Sequence (1 term):\")\n",
    "fib_iter_1 = FibonacciIterator(1)\n",
    "for num in fib_iter_1:\n",
    "    print(num)\n",
    "\n",
    "print(\"\\nFibonacci Sequence (0 terms):\")\n",
    "fib_iter_0 = FibonacciIterator(0)\n",
    "for num in fib_iter_0:\n",
    "    print(num)\n",
    "\n",
    "# You can also use next() manually\n",
    "print(\"\\nFibonacci Sequence (manual next):\")\n",
    "fib_manual = FibonacciIterator(3)\n",
    "print(next(fib_manual))\n",
    "print(next(fib_manual))\n",
    "print(next(fib_manual))\n",
    "# print(next(fib_manual)) # This would raise StopIteration"
   ]
  },
  {
   "cell_type": "code",
   "execution_count": null,
   "id": "1c3573d4-67f2-40ee-aff9-050459ceb75b",
   "metadata": {},
   "outputs": [],
   "source": [
    "Question 6. Write a generator function in Python that yields the powers of 2 up to a given exponent.\n",
    " "
   ]
  },
  {
   "cell_type": "code",
   "execution_count": 6,
   "id": "5fe7cb5c-bbb7-4718-a9fc-447864cdfb7e",
   "metadata": {},
   "outputs": [
    {
     "name": "stdout",
     "output_type": "stream",
     "text": [
      "\n",
      "Powers of 2 up to exponent 5:\n",
      "1\n",
      "2\n",
      "4\n",
      "8\n",
      "16\n",
      "32\n",
      "\n",
      "Powers of 2 up to exponent 0:\n",
      "1\n",
      "\n",
      "Powers of 2 (large exponent - memory efficient):\n",
      "First power: 1\n",
      "Second power: 2\n",
      "4\n",
      "8\n",
      "16\n"
     ]
    }
   ],
   "source": [
    "#Answer 6.\n",
    "def powers_of_2(exponent_limit):\n",
    "    \"\"\"\n",
    "    A generator function that yields powers of 2 up to a given exponent limit.\n",
    "\n",
    "    Args:\n",
    "        exponent_limit (int): The maximum exponent (inclusive) for powers of 2.\n",
    "\n",
    "    Yields:\n",
    "        int: The next power of 2.\n",
    "    \"\"\"\n",
    "    if not isinstance(exponent_limit, int) or exponent_limit < 0:\n",
    "        raise ValueError(\"Exponent limit must be a non-negative integer.\")\n",
    "\n",
    "    for i in range(exponent_limit + 1):\n",
    "        yield 2 ** i\n",
    "\n",
    "# Example Usage:\n",
    "print(\"\\nPowers of 2 up to exponent 5:\")\n",
    "for power in powers_of_2(5):\n",
    "    print(power)\n",
    "\n",
    "print(\"\\nPowers of 2 up to exponent 0:\")\n",
    "for power in powers_of_2(0):\n",
    "    print(power)\n",
    "\n",
    "print(\"\\nPowers of 2 (large exponent - memory efficient):\")\n",
    "# This won't create all numbers in memory at once\n",
    "pow_gen = powers_of_2(20)\n",
    "print(f\"First power: {next(pow_gen)}\")\n",
    "print(f\"Second power: {next(pow_gen)}\")\n",
    "# You can continue to iterate or use it in a loop\n",
    "for _ in range(3): # Get 3 more powers\n",
    "    print(next(pow_gen))"
   ]
  },
  {
   "cell_type": "code",
   "execution_count": null,
   "id": "6ff31d09-d8bf-4ee1-acf6-361b31d2b23b",
   "metadata": {},
   "outputs": [],
   "source": [
    "Question 7. Implement a generator function that reads a file line by line and yields each line as a string.\n"
   ]
  },
  {
   "cell_type": "code",
   "execution_count": 7,
   "id": "dab0dbb2-b46b-461c-ad32-c990b8ec3150",
   "metadata": {},
   "outputs": [
    {
     "name": "stdout",
     "output_type": "stream",
     "text": [
      "\n",
      "Reading file 'my_sample_file.txt' line by line:\n",
      "Read: This is line 1.\n",
      "Read: This is line 2.\n",
      "Read: Line 3 with some text.\n",
      "Read: And the last line.\n",
      "\n",
      "Trying with a non-existent file:\n",
      "The file at 'non_existent_file.txt' does not exist.\n"
     ]
    }
   ],
   "source": [
    "#Answer 7.\n",
    "import os\n",
    "\n",
    "def read_file_line_by_line(filepath):\n",
    "    \"\"\"\n",
    "    A generator function that reads a file line by line and yields each line as a string.\n",
    "\n",
    "    Args:\n",
    "        filepath (str): The path to the file to read.\n",
    "\n",
    "    Yields:\n",
    "        str: Each line from the file.\n",
    "    \"\"\"\n",
    "    if not os.path.exists(filepath):\n",
    "        raise FileNotFoundError(f\"The file at '{filepath}' does not exist.\")\n",
    "    if not os.path.isfile(filepath):\n",
    "        raise IsADirectoryError(f\"'{filepath}' is a directory, not a file.\")\n",
    "\n",
    "    with open(filepath, 'r', encoding='utf-8') as f:\n",
    "        for line in f:\n",
    "            yield line.strip('\\n') # Strip newline characters for cleaner output\n",
    "\n",
    "# Create a dummy file for demonstration\n",
    "dummy_file_content = \"\"\"This is line 1.\n",
    "This is line 2.\n",
    "Line 3 with some text.\n",
    "And the last line.\"\"\"\n",
    "\n",
    "dummy_file_path = \"my_sample_file.txt\"\n",
    "with open(dummy_file_path, 'w', encoding='utf-8') as f:\n",
    "    f.write(dummy_file_content)\n",
    "\n",
    "# Example Usage:\n",
    "print(f\"\\nReading file '{dummy_file_path}' line by line:\")\n",
    "try:\n",
    "    for line in read_file_line_by_line(dummy_file_path):\n",
    "        print(f\"Read: {line}\")\n",
    "except FileNotFoundError as e:\n",
    "    print(e)\n",
    "except IsADirectoryError as e:\n",
    "    print(e)\n",
    "finally:\n",
    "    # Clean up the dummy file\n",
    "    if os.path.exists(dummy_file_path):\n",
    "        os.remove(dummy_file_path)\n",
    "\n",
    "print(\"\\nTrying with a non-existent file:\")\n",
    "try:\n",
    "    for line in read_file_line_by_line(\"non_existent_file.txt\"):\n",
    "        print(line)\n",
    "except FileNotFoundError as e:\n",
    "    print(e)"
   ]
  },
  {
   "cell_type": "code",
   "execution_count": null,
   "id": "b99a361c-03dd-4c0d-b4cc-095398089731",
   "metadata": {},
   "outputs": [],
   "source": [
    "Question 8. Use a lambda function in Python to sort a list of tuples based on the second element of each tuple.\n",
    " "
   ]
  },
  {
   "cell_type": "code",
   "execution_count": 8,
   "id": "78bd1a1e-2929-4c7e-9923-3bae4212ecf0",
   "metadata": {},
   "outputs": [
    {
     "name": "stdout",
     "output_type": "stream",
     "text": [
      "Original list of students:\n",
      "[('Alice', 25), ('Bob', 20), ('Charlie', 30), ('David', 22)]\n",
      "\n",
      "Sorted list of students by age:\n",
      "[('Bob', 20), ('David', 22), ('Alice', 25), ('Charlie', 30)]\n",
      "\n",
      "Sorted list of students by age (descending):\n",
      "[('Charlie', 30), ('Alice', 25), ('David', 22), ('Bob', 20)]\n"
     ]
    }
   ],
   "source": [
    "#Answer 8.\n",
    "# List of tuples: (name, age)\n",
    "students = [\n",
    "    (\"Alice\", 25),\n",
    "    (\"Bob\", 20),\n",
    "    (\"Charlie\", 30),\n",
    "    (\"David\", 22)\n",
    "]\n",
    "\n",
    "print(\"Original list of students:\")\n",
    "print(students)\n",
    "\n",
    "# Sort the list of tuples based on the second element (age) using a lambda function\n",
    "# The 'key' argument expects a function that extracts a comparison key from each element\n",
    "sorted_students = sorted(students, key=lambda student: student[1])\n",
    "\n",
    "print(\"\\nSorted list of students by age:\")\n",
    "print(sorted_students)\n",
    "\n",
    "# Example of sorting in descending order\n",
    "sorted_students_desc = sorted(students, key=lambda student: student[1], reverse=True)\n",
    "print(\"\\nSorted list of students by age (descending):\")\n",
    "print(sorted_students_desc)"
   ]
  },
  {
   "cell_type": "code",
   "execution_count": null,
   "id": "b9dfe441-fddc-4e7d-b769-e522ae427698",
   "metadata": {},
   "outputs": [],
   "source": [
    "Question 9. Write a Python program that uses `map()` to convert a list of temperatures from Celsius to Fahrenheit."
   ]
  },
  {
   "cell_type": "code",
   "execution_count": 9,
   "id": "e23f3b42-9773-4ec3-ad0d-d9341d9a5b39",
   "metadata": {},
   "outputs": [
    {
     "name": "stdout",
     "output_type": "stream",
     "text": [
      "Celsius Temperatures: [0, 10, 20, 30, 37, 100]\n",
      "Fahrenheit Temperatures: [32.0, 50.0, 68.0, 86.0, 98.6, 212.0]\n",
      "Fahrenheit Temperatures (using lambda): [32.0, 50.0, 68.0, 86.0, 98.6, 212.0]\n"
     ]
    }
   ],
   "source": [
    "#Answer 9.\n",
    "def celsius_to_fahrenheit(celsius):\n",
    "    \"\"\"Converts a temperature from Celsius to Fahrenheit.\"\"\"\n",
    "    return (celsius * 9/5) + 32\n",
    "\n",
    "# List of temperatures in Celsius\n",
    "celsius_temps = [0, 10, 20, 30, 37, 100]\n",
    "\n",
    "print(f\"Celsius Temperatures: {celsius_temps}\")\n",
    "\n",
    "# Use map() to apply the conversion function to each Celsius temperature\n",
    "# and convert the map object to a list\n",
    "fahrenheit_temps = list(map(celsius_to_fahrenheit, celsius_temps))\n",
    "\n",
    "print(f\"Fahrenheit Temperatures: {fahrenheit_temps}\")\n",
    "\n",
    "# You can also use a lambda function directly with map()\n",
    "fahrenheit_temps_lambda = list(map(lambda c: (c * 9/5) + 32, celsius_temps))\n",
    "print(f\"Fahrenheit Temperatures (using lambda): {fahrenheit_temps_lambda}\")"
   ]
  },
  {
   "cell_type": "code",
   "execution_count": null,
   "id": "fe663ea7-fec6-4f22-a147-9a07de0f8b82",
   "metadata": {},
   "outputs": [],
   "source": [
    "Queston 10. Create a Python program that uses `filter()` to remove all the vowels from a given string."
   ]
  },
  {
   "cell_type": "code",
   "execution_count": 12,
   "id": "ca67ad27-cf23-4fc5-b239-b17ad9acb0b4",
   "metadata": {},
   "outputs": [
    {
     "name": "stdout",
     "output_type": "stream",
     "text": [
      "Original: 'Hello World'\n",
      "Without vowels: 'Hll Wrld'\n",
      "\n",
      "Original: 'Python Programming'\n",
      "Without vowels: 'Pythn Prgrmmng'\n",
      "\n",
      "Original: 'AEIOU'\n",
      "Without vowels: ''\n",
      "\n",
      "Original: 'Rhythm'\n",
      "Without vowels: 'Rhythm'\n"
     ]
    }
   ],
   "source": [
    "#Answer 10.\n",
    "def remove_vowels(input_string):\n",
    "    \"\"\"\n",
    "    Removes all vowels (case-insensitive) from a given string using filter().\n",
    "\n",
    "    Args:\n",
    "        input_string (str): The string from which to remove vowels.\n",
    "\n",
    "    Returns:\n",
    "        str: The string with vowels removed.\n",
    "    \"\"\"\n",
    "    vowels = \"aeiouAEIOU\"\n",
    "    # The filter function expects a function and an iterable.\n",
    "    # The lambda function returns True for characters that are NOT vowels.\n",
    "    filtered_chars = filter(lambda char: char not in vowels, input_string)\n",
    "    \n",
    "    # Join the filtered characters back into a string\n",
    "    return \"\".join(filtered_chars)\n",
    "\n",
    "# Example Usage:\n",
    "my_string1 = \"Hello World\"\n",
    "string_without_vowels1 = remove_vowels(my_string1)\n",
    "print(f\"Original: '{my_string1}'\")\n",
    "print(f\"Without vowels: '{string_without_vowels1}'\")\n",
    "\n",
    "my_string2 = \"Python Programming\"\n",
    "string_without_vowels2 = remove_vowels(my_string2)\n",
    "print(f\"\\nOriginal: '{my_string2}'\")\n",
    "print(f\"Without vowels: '{string_without_vowels2}'\")\n",
    "\n",
    "my_string3 = \"AEIOU\"\n",
    "string_without_vowels3 = remove_vowels(my_string3)\n",
    "print(f\"\\nOriginal: '{my_string3}'\")\n",
    "print(f\"Without vowels: '{string_without_vowels3}'\")\n",
    "\n",
    "my_string4 = \"Rhythm\"\n",
    "string_without_vowels4 = remove_vowels(my_string4)\n",
    "print(f\"\\nOriginal: '{my_string4}'\")\n",
    "print(f\"Without vowels: '{string_without_vowels4}'\")"
   ]
  },
  {
   "cell_type": "code",
   "execution_count": null,
   "id": "6c50b9a3-ff39-4a6c-8a7b-4b6d86e4a6a0",
   "metadata": {},
   "outputs": [],
   "source": [
    "Question 11. Imagine an accounting routine used in a book shop. It works on a list with sublists, which look like this:\n",
    " \n",
    "  Order Number    Book Title and Author            Quantity     Price per Item\n",
    "  34587           Learning python, Mark Lutz          4                 40.95\n",
    "  98762           Programming Python, Mark Lutz       5                 56.80\n",
    "  77226           Head First Python, Paul Barry       3                 32.95\n",
    "  88112           Einfuhrung in python3, Bernd Klein  3                 24.99\n",
    " Write a Python program, which returns a list with 2-tuples. Each tuple consists of the order number and the \n",
    "product of the price per item and the quantity. The product should be increased by 10,- € if the value of the \n",
    "order is smaller than 100,00 €.\n",
    " Write a Python program using lambda and map"
   ]
  },
  {
   "cell_type": "code",
   "execution_count": 13,
   "id": "ac810ada-7238-4795-b7e2-0115dbbcf61e",
   "metadata": {},
   "outputs": [
    {
     "name": "stdout",
     "output_type": "stream",
     "text": [
      "Processed Orders:\n",
      "Order Number: 34587, Total Price: 163.80 €\n",
      "Order Number: 98762, Total Price: 284.00 €\n",
      "Order Number: 77226, Total Price: 108.85 €\n",
      "Order Number: 88112, Total Price: 84.97 €\n"
     ]
    }
   ],
   "source": [
    "#Answer 11.\n",
    "def process_orders(orders):\n",
    "    \"\"\"\n",
    "    Processes a list of book orders, calculating the total price for each order\n",
    "    and applying a surcharge if the total is less than 100€.\n",
    "\n",
    "    Args:\n",
    "        orders (list): A list of book orders, where each order is a list\n",
    "                        containing order number, book details, quantity, and price.\n",
    "\n",
    "    Returns:\n",
    "        list: A list of 2-tuples, where each tuple contains the order number\n",
    "              and the calculated total price for that order.\n",
    "    \"\"\"\n",
    "    def calculate_total_price(order):\n",
    "        \"\"\"\n",
    "        Calculates the total price for a single order, including a surcharge\n",
    "        if the order value is less than 100€.\n",
    "\n",
    "        Args:\n",
    "            order (list): A single book order containing order number, book details,\n",
    "                           quantity, and price.\n",
    "\n",
    "        Returns:\n",
    "            tuple: A tuple containing the order number and the calculated total price.\n",
    "        \"\"\"\n",
    "        order_number, _, quantity, price_per_item = order\n",
    "        total_price = quantity * price_per_item\n",
    "        if total_price < 100:\n",
    "            total_price += 10\n",
    "        return order_number, total_price\n",
    "\n",
    "    # Use map() to apply the calculate_total_price function to each order\n",
    "    processed_orders = list(map(calculate_total_price, orders))\n",
    "    return processed_orders\n",
    "\n",
    "# Sample order data\n",
    "orders = [\n",
    "    [34587, \"Learning Python, Mark Lutz\", 4, 40.95],\n",
    "    [98762, \"Programming Python, Mark Lutz\", 5, 56.80],\n",
    "    [77226, \"Head First Python, Paul Barry\", 3, 32.95],\n",
    "    [88112, \"Einführung in Python3, Bernd Klein\", 3, 24.99],\n",
    "]\n",
    "\n",
    "# Process the orders\n",
    "processed_orders = process_orders(orders)\n",
    "\n",
    "# Print the results\n",
    "print(\"Processed Orders:\")\n",
    "for order_number, total_price in processed_orders:\n",
    "    print(f\"Order Number: {order_number}, Total Price: {total_price:.2f} €\")\n"
   ]
  },
  {
   "cell_type": "code",
   "execution_count": 13,
   "id": "bce74f90-3a1b-48fc-90f9-cc14ad5d24bf",
   "metadata": {},
   "outputs": [
    {
     "name": "stdout",
     "output_type": "stream",
     "text": [
      "Processed Orders:\n",
      "Order Number: 34587, Total Price: 163.80 €\n",
      "Order Number: 98762, Total Price: 284.00 €\n",
      "Order Number: 77226, Total Price: 108.85 €\n",
      "Order Number: 88112, Total Price: 84.97 €\n"
     ]
    }
   ],
   "source": []
  }
 ],
 "metadata": {
  "kernelspec": {
   "display_name": "Python 3 (ipykernel)",
   "language": "python",
   "name": "python3"
  },
  "language_info": {
   "codemirror_mode": {
    "name": "ipython",
    "version": 3
   },
   "file_extension": ".py",
   "mimetype": "text/x-python",
   "name": "python",
   "nbconvert_exporter": "python",
   "pygments_lexer": "ipython3",
   "version": "3.12.7"
  }
 },
 "nbformat": 4,
 "nbformat_minor": 5
}
