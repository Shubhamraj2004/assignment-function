{
 "cells": [
  {
   "cell_type": "code",
   "execution_count": null,
   "id": "edc60ade-00df-4228-b503-0cd3c238b24d",
   "metadata": {},
   "outputs": [],
   "source": []
  }
 ],
 "metadata": {
  "kernelspec": {
   "display_name": "",
   "name": ""
  },
  "language_info": {
   "name": ""
  }
 },
 "nbformat": 4,
 "nbformat_minor": 5
}
